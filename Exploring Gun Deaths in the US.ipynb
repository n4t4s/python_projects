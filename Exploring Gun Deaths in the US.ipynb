{
 "cells": [
  {
   "cell_type": "markdown",
   "metadata": {},
   "source": [
    "<h1><center>Exploring Gun Deaths in the US</center></h1>"
   ]
  },
  {
   "cell_type": "code",
   "execution_count": 1,
   "metadata": {},
   "outputs": [
    {
     "name": "stdout",
     "output_type": "stream",
     "text": [
      "[['', 'year', 'month', 'intent', 'police', 'sex', 'age', 'race', 'hispanic', 'place', 'education'], ['1', '2012', '01', 'Suicide', '0', 'M', '34', 'Asian/Pacific Islander', '100', 'Home', '4'], ['2', '2012', '01', 'Suicide', '0', 'F', '21', 'White', '100', 'Street', '3'], ['3', '2012', '01', 'Suicide', '0', 'M', '60', 'White', '100', 'Other specified', '4'], ['4', '2012', '02', 'Suicide', '0', 'M', '64', 'White', '100', 'Home', '4']]\n"
     ]
    }
   ],
   "source": [
    "import csv\n",
    "f = open('guns.csv', 'r')\n",
    "csvreader = csv.reader(f)\n",
    "guns_data = list(csvreader)\n",
    "print(guns_data[0:5])"
   ]
  },
  {
   "cell_type": "code",
   "execution_count": 2,
   "metadata": {},
   "outputs": [
    {
     "name": "stdout",
     "output_type": "stream",
     "text": [
      "['', 'year', 'month', 'intent', 'police', 'sex', 'age', 'race', 'hispanic', 'place', 'education']\n",
      "[['1', '2012', '01', 'Suicide', '0', 'M', '34', 'Asian/Pacific Islander', '100', 'Home', '4'], ['2', '2012', '01', 'Suicide', '0', 'F', '21', 'White', '100', 'Street', '3'], ['3', '2012', '01', 'Suicide', '0', 'M', '60', 'White', '100', 'Other specified', '4'], ['4', '2012', '02', 'Suicide', '0', 'M', '64', 'White', '100', 'Home', '4'], ['5', '2012', '02', 'Suicide', '0', 'M', '31', 'White', '100', 'Other specified', '2']]\n"
     ]
    }
   ],
   "source": [
    "class Dataset:\n",
    "    def __init__(self, data):\n",
    "        self.header = data[0]\n",
    "        self.data = data[1:]\n",
    "\n",
    "\n",
    "guns_dataset = Dataset(guns_data)\n",
    "guns_header = guns_dataset.header\n",
    "guns_data = guns_dataset.data\n",
    "\n",
    "print(guns_header)\n",
    "print(guns_data[0:5])\n"
   ]
  },
  {
   "cell_type": "code",
   "execution_count": 3,
   "metadata": {},
   "outputs": [
    {
     "name": "stdout",
     "output_type": "stream",
     "text": [
      "{'2014': 33599, '2012': 33563, '2013': 33636}\n"
     ]
    }
   ],
   "source": [
    "year_counts = {}\n",
    "for row in guns_data:\n",
    "    years = row[1]\n",
    "    if years in year_counts:\n",
    "        year_counts[years] = year_counts[years] + 1\n",
    "    else:\n",
    "        year_counts[years] = 1\n",
    "\n",
    "print(year_counts)"
   ]
  },
  {
   "cell_type": "code",
   "execution_count": 4,
   "metadata": {},
   "outputs": [
    {
     "name": "stdout",
     "output_type": "stream",
     "text": [
      "[datetime.datetime(2012, 1, 1, 0, 0), datetime.datetime(2012, 1, 1, 0, 0), datetime.datetime(2012, 1, 1, 0, 0), datetime.datetime(2012, 2, 1, 0, 0), datetime.datetime(2012, 2, 1, 0, 0)]\n"
     ]
    }
   ],
   "source": [
    "import datetime\n",
    "\n",
    "date_list = []\n",
    "\n",
    "for row in guns_data:\n",
    "    year = int(row[1])\n",
    "    month = int(row[2])\n",
    "    dates = datetime.datetime(year=year, month=month, day=1)\n",
    "    date_list.append(dates)\n",
    "\n",
    "print(date_list[0:5])"
   ]
  },
  {
   "cell_type": "code",
   "execution_count": 5,
   "metadata": {},
   "outputs": [
    {
     "name": "stdout",
     "output_type": "stream",
     "text": [
      "{datetime.datetime(2014, 2, 1, 0, 0): 2361, datetime.datetime(2014, 7, 1, 0, 0): 2884, datetime.datetime(2014, 6, 1, 0, 0): 2931, datetime.datetime(2014, 9, 1, 0, 0): 2914, datetime.datetime(2013, 1, 1, 0, 0): 2864, datetime.datetime(2012, 2, 1, 0, 0): 2357, datetime.datetime(2013, 6, 1, 0, 0): 2920, datetime.datetime(2012, 4, 1, 0, 0): 2795, datetime.datetime(2014, 11, 1, 0, 0): 2756, datetime.datetime(2012, 8, 1, 0, 0): 2954, datetime.datetime(2013, 11, 1, 0, 0): 2758, datetime.datetime(2014, 5, 1, 0, 0): 2864, datetime.datetime(2012, 3, 1, 0, 0): 2743, datetime.datetime(2013, 4, 1, 0, 0): 2798, datetime.datetime(2012, 12, 1, 0, 0): 2791, datetime.datetime(2012, 10, 1, 0, 0): 2733, datetime.datetime(2012, 9, 1, 0, 0): 2852, datetime.datetime(2013, 12, 1, 0, 0): 2765, datetime.datetime(2013, 5, 1, 0, 0): 2806, datetime.datetime(2014, 3, 1, 0, 0): 2684, datetime.datetime(2012, 5, 1, 0, 0): 2999, datetime.datetime(2014, 1, 1, 0, 0): 2651, datetime.datetime(2012, 7, 1, 0, 0): 3026, datetime.datetime(2012, 6, 1, 0, 0): 2826, datetime.datetime(2013, 7, 1, 0, 0): 3079, datetime.datetime(2012, 1, 1, 0, 0): 2758, datetime.datetime(2014, 8, 1, 0, 0): 2970, datetime.datetime(2013, 9, 1, 0, 0): 2742, datetime.datetime(2013, 3, 1, 0, 0): 2862, datetime.datetime(2013, 8, 1, 0, 0): 2859, datetime.datetime(2014, 12, 1, 0, 0): 2857, datetime.datetime(2012, 11, 1, 0, 0): 2729, datetime.datetime(2014, 4, 1, 0, 0): 2862, datetime.datetime(2013, 2, 1, 0, 0): 2375, datetime.datetime(2013, 10, 1, 0, 0): 2808, datetime.datetime(2014, 10, 1, 0, 0): 2865}\n"
     ]
    }
   ],
   "source": [
    "date_counts = {}\n",
    "for date in date_list:\n",
    "    if date in date_counts:\n",
    "        date_counts[date] = date_counts[date] + 1\n",
    "    else:\n",
    "        date_counts[date] = 1\n",
    "\n",
    "print(date_counts)\n"
   ]
  },
  {
   "cell_type": "code",
   "execution_count": 6,
   "metadata": {},
   "outputs": [
    {
     "name": "stdout",
     "output_type": "stream",
     "text": [
      "{'F': 14449, 'M': 86349}\n",
      "{'Black': 23296, 'White': 66237, 'Native American/Native Alaskan': 917, 'Asian/Pacific Islander': 1326, 'Hispanic': 9022}\n"
     ]
    }
   ],
   "source": [
    "sex_counts = {}\n",
    "race_counts = {}\n",
    "\n",
    "for row in guns_data:\n",
    "    sex = row[5]\n",
    "    race = row[7]\n",
    "    if sex in sex_counts:\n",
    "        sex_counts[sex] = sex_counts[sex] + 1\n",
    "    else:\n",
    "        sex_counts[sex] = 1\n",
    "    if race in race_counts:\n",
    "        race_counts[race] = race_counts[race] + 1\n",
    "    else:\n",
    "        race_counts[race] = 1\n",
    "\n",
    "print(sex_counts)\n",
    "print(race_counts)"
   ]
  },
  {
   "cell_type": "code",
   "execution_count": 7,
   "metadata": {},
   "outputs": [
    {
     "data": {
      "text/plain": [
       "[['Id',\n",
       "  'Year',\n",
       "  'Id',\n",
       "  'Sex',\n",
       "  'Id',\n",
       "  'Hispanic Origin',\n",
       "  'Id',\n",
       "  'Id2',\n",
       "  'Geography',\n",
       "  'Total',\n",
       "  'Race Alone - White',\n",
       "  'Race Alone - Hispanic',\n",
       "  'Race Alone - Black or African American',\n",
       "  'Race Alone - American Indian and Alaska Native',\n",
       "  'Race Alone - Asian',\n",
       "  'Race Alone - Native Hawaiian and Other Pacific Islander',\n",
       "  'Two or More Races'],\n",
       " ['cen42010',\n",
       "  'April 1, 2010 Census',\n",
       "  'totsex',\n",
       "  'Both Sexes',\n",
       "  'tothisp',\n",
       "  'Total',\n",
       "  '0100000US',\n",
       "  '',\n",
       "  'United States',\n",
       "  '308745538',\n",
       "  '197318956',\n",
       "  '44618105',\n",
       "  '40250635',\n",
       "  '3739506',\n",
       "  '15159516',\n",
       "  '674625',\n",
       "  '6984195']]"
      ]
     },
     "execution_count": 7,
     "metadata": {},
     "output_type": "execute_result"
    }
   ],
   "source": [
    "f = open('census.csv', 'r')\n",
    "csvreader = csv.reader(f)\n",
    "census_data = list(csvreader)\n",
    "census_data"
   ]
  },
  {
   "cell_type": "code",
   "execution_count": 8,
   "metadata": {},
   "outputs": [
    {
     "name": "stdout",
     "output_type": "stream",
     "text": [
      "{'Black': 52.211988832784364, 'Asian/Pacific Islander': 8.374309664161762, 'Native American/Native Alaskan': 2.278224927383133, 'White': 21.453589395678975, 'Hispanic': 4.572292588047142}\n"
     ]
    }
   ],
   "source": [
    "mapping = {\n",
    "    'Asian/Pacific Islander': 15834141,\n",
    "    'Black': 44618105,\n",
    "    'Native American/Native Alaskan': 40250635,\n",
    "    'Hispanic': 197318956,\n",
    "    'White': 308745538\n",
    "}\n",
    "\n",
    "race_per_hundredk = {}\n",
    "\n",
    "for key, value in race_counts.items():\n",
    "    race_per_hundredk[key] = (value / mapping[key]) * 100000\n",
    "\n",
    "print(race_per_hundredk)"
   ]
  },
  {
   "cell_type": "code",
   "execution_count": 9,
   "metadata": {},
   "outputs": [
    {
     "name": "stdout",
     "output_type": "stream",
     "text": [
      "{'Black': 43.7266441503959, 'Asian/Pacific Islander': 3.530346230970155, 'Native American/Native Alaskan': 0.8099251104982568, 'White': 2.9626339085748987, 'Hispanic': 2.8552755975457322}\n"
     ]
    }
   ],
   "source": [
    "homicide_race_counts = {}\n",
    "for row in guns_data:\n",
    "    intent = row[3]\n",
    "    race = row[7]\n",
    "    if race not in homicide_race_counts:\n",
    "        homicide_race_counts[race] = 0\n",
    "    if intent == 'Homicide':\n",
    "        homicide_race_counts[race] += 1\n",
    "\n",
    "\n",
    "race_per_hundredk = {}\n",
    "\n",
    "for key, value in homicide_race_counts.items():\n",
    "    race_per_hundredk[key] = (value / mapping[key]) * 100000\n",
    "\n",
    "print(race_per_hundredk)"
   ]
  }
 ],
 "metadata": {
  "kernelspec": {
   "display_name": "Python 3",
   "language": "python",
   "name": "python3"
  },
  "language_info": {
   "codemirror_mode": {
    "name": "ipython",
    "version": 3
   },
   "file_extension": ".py",
   "mimetype": "text/x-python",
   "name": "python",
   "nbconvert_exporter": "python",
   "pygments_lexer": "ipython3",
   "version": "3.7.3"
  }
 },
 "nbformat": 4,
 "nbformat_minor": 1
}
